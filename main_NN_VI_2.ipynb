{
 "cells": [
  {
   "cell_type": "markdown",
   "metadata": {},
   "source": [
    "# Introduction\n",
    "\n",
    "This notebook guides through calibration function development using published data (S. De Vito et al., Sensors and Actuators B: Chemical, Volume 129, Issue 2)."
   ]
  },
  {
   "cell_type": "code",
   "execution_count": 1,
   "metadata": {},
   "outputs": [],
   "source": [
    "# Load libriaries.\n",
    "import pandas as pd\n",
    "import numpy as np\n",
    "import scipy as sp\n",
    "import tensorflow as tf\n",
    "tfk = tf.keras\n",
    "tf.keras.backend.set_floatx(\"float64\")\n",
    "from tensorflow.keras.utils import plot_model\n",
    "import tensorflow_probability as tfp\n",
    "tfd = tfp.distributions\n",
    "from sklearn.preprocessing import StandardScaler, MinMaxScaler\n",
    "from sklearn.impute import SimpleImputer\n",
    "from sklearn.ensemble import IsolationForest\n",
    "from sklearn.decomposition import PCA\n",
    "from sklearn.metrics import r2_score, explained_variance_score, mean_squared_error\n",
    "\n",
    "%matplotlib inline\n",
    "import matplotlib as mpl\n",
    "import matplotlib.pyplot as plt\n",
    "plt.rcParams['lines.linewidth'] = 1.0\n",
    "plt.rcParams['font.size'] = 6.0\n",
    "plt.rcParams['axes.titlesize'] = 6.0"
   ]
  },
  {
   "cell_type": "markdown",
   "metadata": {},
   "source": [
    "# Method(s)\n",
    "A Bayesian neural network is used as machine learning algorithm."
   ]
  },
  {
   "cell_type": "code",
   "execution_count": 2,
   "metadata": {},
   "outputs": [],
   "source": [
    "# Define helper functions.\n",
    "scaler = StandardScaler(copy=True) # Define standard scaler instance.\n",
    "imputer = SimpleImputer()\n",
    "detector = IsolationForest(n_estimators=1000, random_state=0) # Define outlier detector instance.\n",
    "dim_red = PCA(n_components=2) # Define principal components instance."
   ]
  },
  {
   "cell_type": "code",
   "execution_count": 3,
   "metadata": {},
   "outputs": [],
   "source": [
    "# Define moving-average function.\n",
    "def moving_average(x, w=168*4):\n",
    "    return np.convolve(x, np.ones(w), \"same\") / w\n",
    "\n",
    "# Create Meshgrid.\n",
    "def make_meshgrid(x, y, h=0.25):\n",
    "    \"\"\"Create a mesh of points to plot in\n",
    "\n",
    "    Parameters\n",
    "    ----------\n",
    "    x: data to base x-axis meshgrid on\n",
    "    y: data to base y-axis meshgrid on\n",
    "    h: stepsize for meshgrid, optional\n",
    "\n",
    "    Returns\n",
    "    -------\n",
    "    xx, yy : ndarray\n",
    "    \"\"\"\n",
    "    x_min, x_max = x.min() - 6, x.max() + 6\n",
    "    y_min, y_max = y.min() - 6, y.max() + 6\n",
    "    xx, yy = np.meshgrid(np.arange(x_min, x_max, h),\n",
    "                         np.arange(y_min, y_max, h))\n",
    "    return xx, yy\n",
    "    \n",
    "def compute_predictions(model, dim_red, x, y, n_outputs=4, n_iterations=30):\n",
    "    xx, yy = make_meshgrid(x, y)\n",
    "    shape = xx.shape\n",
    "    xx, yy = xx.ravel(), yy.ravel()\n",
    "    length = xx.shape[0]\n",
    "    X, Y = np.zeros((length, 1)), np.zeros((length, 1))\n",
    "    output = np.zeros((n_iterations, n_outputs))\n",
    "    mu, sigma = np.zeros((length, n_outputs)), np.zeros((length, n_outputs))\n",
    "    for index in range(length):\n",
    "        data = np.expand_dims(dim_red.inverse_transform([xx[index], yy[index]]), axis=0)\n",
    "        for k in range(n_iterations):\n",
    "            output[k, :] = model.predict(data)\n",
    "        X[index, 0], Y[index, 0] = xx[index], yy[index]\n",
    "        mu[index, :], sigma[index, :] = np.mean(output, axis=0), np.std(output, axis=0)\n",
    "    return X, Y, mu, sigma, shape\n",
    "\n",
    "def run_simulation(model, data, T=None, n_outputs=4, n_iterations=30):\n",
    "    if T == None:\n",
    "        T = data.shape[0]\n",
    "    mu = np.zeros((T, n_outputs))\n",
    "    sigma = np.zeros((T, n_outputs))\n",
    "    output = np.zeros((n_iterations, n_outputs))\n",
    "    for t in range(T):\n",
    "        for k in range(n_iterations):\n",
    "            output[k, :] = model.predict(np.expand_dims(data[t, :], axis=0))\n",
    "        mu[t, :] = np.mean(output, axis=0)\n",
    "        sigma[t, :] = np.std(output, axis=0)\n",
    "    return mu, sigma"
   ]
  },
  {
   "cell_type": "markdown",
   "metadata": {},
   "source": [
    "# Data Handling\n",
    "Load data to pandas data frame."
   ]
  },
  {
   "cell_type": "code",
   "execution_count": 4,
   "metadata": {},
   "outputs": [
    {
     "data": {
      "text/html": [
       "<div>\n",
       "<style scoped>\n",
       "    .dataframe tbody tr th:only-of-type {\n",
       "        vertical-align: middle;\n",
       "    }\n",
       "\n",
       "    .dataframe tbody tr th {\n",
       "        vertical-align: top;\n",
       "    }\n",
       "\n",
       "    .dataframe thead th {\n",
       "        text-align: right;\n",
       "    }\n",
       "</style>\n",
       "<table border=\"1\" class=\"dataframe\">\n",
       "  <thead>\n",
       "    <tr style=\"text-align: right;\">\n",
       "      <th></th>\n",
       "      <th>CO(GT)</th>\n",
       "      <th>PT08.S1(CO)</th>\n",
       "      <th>NMHC(GT)</th>\n",
       "      <th>C6H6(GT)</th>\n",
       "      <th>PT08.S2(NMHC)</th>\n",
       "      <th>NOx(GT)</th>\n",
       "      <th>PT08.S3(NOx)</th>\n",
       "      <th>NO2(GT)</th>\n",
       "      <th>PT08.S4(NO2)</th>\n",
       "      <th>PT08.S5(O3)</th>\n",
       "      <th>T</th>\n",
       "      <th>RH</th>\n",
       "      <th>AH</th>\n",
       "    </tr>\n",
       "  </thead>\n",
       "  <tbody>\n",
       "    <tr>\n",
       "      <th>count</th>\n",
       "      <td>492.000000</td>\n",
       "      <td>510.000000</td>\n",
       "      <td>407.000000</td>\n",
       "      <td>510.000000</td>\n",
       "      <td>510.000000</td>\n",
       "      <td>488.000000</td>\n",
       "      <td>510.000000</td>\n",
       "      <td>488.000000</td>\n",
       "      <td>510.000000</td>\n",
       "      <td>510.000000</td>\n",
       "      <td>510.000000</td>\n",
       "      <td>510.000000</td>\n",
       "      <td>510.000000</td>\n",
       "    </tr>\n",
       "    <tr>\n",
       "      <th>mean</th>\n",
       "      <td>2.292073</td>\n",
       "      <td>1222.685784</td>\n",
       "      <td>171.604423</td>\n",
       "      <td>9.935104</td>\n",
       "      <td>935.540686</td>\n",
       "      <td>143.493852</td>\n",
       "      <td>1029.058987</td>\n",
       "      <td>102.581967</td>\n",
       "      <td>1571.943301</td>\n",
       "      <td>1027.379902</td>\n",
       "      <td>14.390114</td>\n",
       "      <td>50.169559</td>\n",
       "      <td>0.789412</td>\n",
       "    </tr>\n",
       "    <tr>\n",
       "      <th>std</th>\n",
       "      <td>1.351381</td>\n",
       "      <td>241.026617</td>\n",
       "      <td>154.282283</td>\n",
       "      <td>7.060364</td>\n",
       "      <td>259.010554</td>\n",
       "      <td>82.526854</td>\n",
       "      <td>268.121934</td>\n",
       "      <td>32.201073</td>\n",
       "      <td>280.524508</td>\n",
       "      <td>381.573883</td>\n",
       "      <td>4.449558</td>\n",
       "      <td>14.266792</td>\n",
       "      <td>0.139933</td>\n",
       "    </tr>\n",
       "    <tr>\n",
       "      <th>min</th>\n",
       "      <td>0.300000</td>\n",
       "      <td>817.750000</td>\n",
       "      <td>7.000000</td>\n",
       "      <td>0.616085</td>\n",
       "      <td>456.750000</td>\n",
       "      <td>12.000000</td>\n",
       "      <td>536.750000</td>\n",
       "      <td>20.000000</td>\n",
       "      <td>1050.250000</td>\n",
       "      <td>341.250000</td>\n",
       "      <td>6.100000</td>\n",
       "      <td>14.900000</td>\n",
       "      <td>0.402317</td>\n",
       "    </tr>\n",
       "    <tr>\n",
       "      <th>25%</th>\n",
       "      <td>1.300000</td>\n",
       "      <td>1026.937500</td>\n",
       "      <td>57.000000</td>\n",
       "      <td>4.590299</td>\n",
       "      <td>742.437500</td>\n",
       "      <td>82.750000</td>\n",
       "      <td>834.062500</td>\n",
       "      <td>82.000000</td>\n",
       "      <td>1358.562500</td>\n",
       "      <td>762.437500</td>\n",
       "      <td>11.050000</td>\n",
       "      <td>38.562500</td>\n",
       "      <td>0.691163</td>\n",
       "    </tr>\n",
       "    <tr>\n",
       "      <th>50%</th>\n",
       "      <td>2.100000</td>\n",
       "      <td>1196.750000</td>\n",
       "      <td>125.000000</td>\n",
       "      <td>8.659198</td>\n",
       "      <td>925.875000</td>\n",
       "      <td>128.000000</td>\n",
       "      <td>966.500000</td>\n",
       "      <td>101.000000</td>\n",
       "      <td>1543.125000</td>\n",
       "      <td>992.250000</td>\n",
       "      <td>14.058333</td>\n",
       "      <td>52.200000</td>\n",
       "      <td>0.792047</td>\n",
       "    </tr>\n",
       "    <tr>\n",
       "      <th>75%</th>\n",
       "      <td>2.900000</td>\n",
       "      <td>1382.937500</td>\n",
       "      <td>233.500000</td>\n",
       "      <td>13.683869</td>\n",
       "      <td>1106.312500</td>\n",
       "      <td>190.000000</td>\n",
       "      <td>1175.750000</td>\n",
       "      <td>125.000000</td>\n",
       "      <td>1730.062500</td>\n",
       "      <td>1272.104167</td>\n",
       "      <td>16.843750</td>\n",
       "      <td>60.768749</td>\n",
       "      <td>0.895924</td>\n",
       "    </tr>\n",
       "    <tr>\n",
       "      <th>max</th>\n",
       "      <td>8.100000</td>\n",
       "      <td>2039.750000</td>\n",
       "      <td>797.000000</td>\n",
       "      <td>39.202340</td>\n",
       "      <td>1754.250000</td>\n",
       "      <td>478.000000</td>\n",
       "      <td>1934.500000</td>\n",
       "      <td>194.000000</td>\n",
       "      <td>2679.000000</td>\n",
       "      <td>2358.500000</td>\n",
       "      <td>29.275000</td>\n",
       "      <td>83.224998</td>\n",
       "      <td>1.094518</td>\n",
       "    </tr>\n",
       "  </tbody>\n",
       "</table>\n",
       "</div>"
      ],
      "text/plain": [
       "           CO(GT)  PT08.S1(CO)    NMHC(GT)    C6H6(GT)  PT08.S2(NMHC)  \\\n",
       "count  492.000000   510.000000  407.000000  510.000000     510.000000   \n",
       "mean     2.292073  1222.685784  171.604423    9.935104     935.540686   \n",
       "std      1.351381   241.026617  154.282283    7.060364     259.010554   \n",
       "min      0.300000   817.750000    7.000000    0.616085     456.750000   \n",
       "25%      1.300000  1026.937500   57.000000    4.590299     742.437500   \n",
       "50%      2.100000  1196.750000  125.000000    8.659198     925.875000   \n",
       "75%      2.900000  1382.937500  233.500000   13.683869    1106.312500   \n",
       "max      8.100000  2039.750000  797.000000   39.202340    1754.250000   \n",
       "\n",
       "          NOx(GT)  PT08.S3(NOx)     NO2(GT)  PT08.S4(NO2)  PT08.S5(O3)  \\\n",
       "count  488.000000    510.000000  488.000000    510.000000   510.000000   \n",
       "mean   143.493852   1029.058987  102.581967   1571.943301  1027.379902   \n",
       "std     82.526854    268.121934   32.201073    280.524508   381.573883   \n",
       "min     12.000000    536.750000   20.000000   1050.250000   341.250000   \n",
       "25%     82.750000    834.062500   82.000000   1358.562500   762.437500   \n",
       "50%    128.000000    966.500000  101.000000   1543.125000   992.250000   \n",
       "75%    190.000000   1175.750000  125.000000   1730.062500  1272.104167   \n",
       "max    478.000000   1934.500000  194.000000   2679.000000  2358.500000   \n",
       "\n",
       "                T          RH          AH  \n",
       "count  510.000000  510.000000  510.000000  \n",
       "mean    14.390114   50.169559    0.789412  \n",
       "std      4.449558   14.266792    0.139933  \n",
       "min      6.100000   14.900000    0.402317  \n",
       "25%     11.050000   38.562500    0.691163  \n",
       "50%     14.058333   52.200000    0.792047  \n",
       "75%     16.843750   60.768749    0.895924  \n",
       "max     29.275000   83.224998    1.094518  "
      ]
     },
     "execution_count": 4,
     "metadata": {},
     "output_type": "execute_result"
    }
   ],
   "source": [
    "# Load data and keep only first six months.\n",
    "data = pd.read_excel(\"AirQualityUCI.xlsx\")\n",
    "data = data[data[\"Date\"] <= \"2004-03-31\"]\n",
    "\n",
    "# Visualize data summary.\n",
    "data.describe()"
   ]
  },
  {
   "cell_type": "markdown",
   "metadata": {},
   "source": [
    "# Methods\n",
    "The data is preprocessed and sliced into different sets. Data is scaled before analysis. In particular, standard scaling provides better results with respect to R2 score and explained variance.\n",
    "No imputation is performed."
   ]
  },
  {
   "cell_type": "code",
   "execution_count": 5,
   "metadata": {},
   "outputs": [],
   "source": [
    "# Select columns and remove rows with missing values.\n",
    "columns = [\"PT08.S1(CO)\", \"PT08.S3(NOx)\", \"PT08.S4(NO2)\", \"PT08.S5(O3)\", \"T\", \"AH\", \"CO(GT)\", \"C6H6(GT)\", \"NOx(GT)\", \"NO2(GT)\"]\n",
    "data = data[columns].dropna(axis=0)\n",
    "\n",
    "# Scale data to zero mean and unit variance.\n",
    "X_t = scaler.fit_transform(data)\n",
    "\n",
    "# Optional: Impute missing values.\n",
    "# X_t = imputer.fit_transform(X_t)\n",
    "\n",
    "# Remove outliers.\n",
    "is_inlier = detector.fit_predict(X_t)\n",
    "X_t = X_t[(is_inlier > 0),:]\n",
    "\n",
    "# Restore frame.\n",
    "dataset = pd.DataFrame(X_t, columns=columns)\n",
    "\n",
    "# Define inputs/outputs.\n",
    "inputs = [\"PT08.S1(CO)\", \"PT08.S3(NOx)\", \"PT08.S4(NO2)\", \"PT08.S5(O3)\", \"T\", \"AH\"]\n",
    "outputs = [\"CO(GT)\", \"C6H6(GT)\", \"NOx(GT)\", \"NO2(GT)\"]"
   ]
  },
  {
   "cell_type": "code",
   "execution_count": 6,
   "metadata": {},
   "outputs": [],
   "source": [
    "# Define some hyperparameters.\n",
    "n_epochs = 200\n",
    "n_samples = dataset.shape[0]\n",
    "n_batches = 50\n",
    "batch_size = np.floor(n_samples/n_batches)\n",
    "buffer_size = n_samples\n",
    "\n",
    "# Define training and test data sizes.\n",
    "n_train = int(0.7*dataset.shape[0])\n",
    "\n",
    "# Define dataset instance.\n",
    "data = tf.data.Dataset.from_tensor_slices((dataset[inputs].values, dataset[outputs].values))\n",
    "data = data.shuffle(n_samples, reshuffle_each_iteration=True)\n",
    "\n",
    "# Define train and test data instances.\n",
    "data_train = data.take(n_train).batch(batch_size).repeat(n_epochs)\n",
    "data_test = data.skip(n_train).batch(1)"
   ]
  },
  {
   "cell_type": "code",
   "execution_count": 7,
   "metadata": {},
   "outputs": [],
   "source": [
    "# Specify the surrogate posterior over `keras.layers.Dense` `kernel` and `bias`.\n",
    "def posterior_mean_field(kernel_size, bias_size, dtype=None):\n",
    "    n = kernel_size + bias_size\n",
    "    c = np.log(np.expm1(1.))\n",
    "    return tf.keras.Sequential([\n",
    "        tfp.layers.VariableLayer(2 * n, dtype=dtype),\n",
    "        tfp.layers.DistributionLambda(lambda t: tfd.Independent(\n",
    "        tfd.Normal(loc=t[..., :n],\n",
    "            scale=1e-5 + tf.nn.softplus(c + t[..., n:])),\n",
    "            reinterpreted_batch_ndims=1)),\n",
    "    ])\n",
    "\n",
    "# Specify the prior over `keras.layers.Dense` `kernel` and `bias`.\n",
    "def prior_trainable(kernel_size, bias_size, dtype=None):\n",
    "    n = kernel_size + bias_size\n",
    "    return tf.keras.Sequential([\n",
    "        tfp.layers.VariableLayer(n, dtype=dtype),\n",
    "        tfp.layers.DistributionLambda(lambda t: tfd.Independent(\n",
    "            tfd.Normal(loc=t, scale=1),\n",
    "            reinterpreted_batch_ndims=1)),\n",
    "    ])"
   ]
  },
  {
   "cell_type": "code",
   "execution_count": 8,
   "metadata": {},
   "outputs": [
    {
     "name": "stdout",
     "output_type": "stream",
     "text": [
      "Model: \"model\"\n",
      "_________________________________________________________________\n",
      "Layer (type)                 Output Shape              Param #   \n",
      "=================================================================\n",
      "dense_1 (DenseVariational)   (None, 10)                210       \n",
      "_________________________________________________________________\n",
      "distribution_weights (DenseV (None, 14)                462       \n",
      "_________________________________________________________________\n",
      "output (MultivariateNormalTr multiple                  0         \n",
      "=================================================================\n",
      "Total params: 672\n",
      "Trainable params: 672\n",
      "Non-trainable params: 0\n",
      "_________________________________________________________________\n"
     ]
    }
   ],
   "source": [
    "# Define prior for regularization.\n",
    "prior = tfd.Independent(tfd.Normal(loc=tf.zeros(len(outputs), dtype=tf.float64), scale=1.0), reinterpreted_batch_ndims=1)\n",
    "\n",
    "# Define negative logarithmic likelihood.\n",
    "neg_log_likelihood = lambda x, rv_x: -rv_x.log_prob(x)\n",
    "\n",
    "# Define model instance.\n",
    "model = tfk.Sequential([\n",
    "tfk.layers.InputLayer(input_shape=(len(inputs),), name=\"input\"),\n",
    "tfp.layers.DenseVariational(10, posterior_mean_field, prior_trainable, \n",
    "                            activation=\"relu\", kl_weight=1/(2*n_samples), name=\"dense_1\"),\n",
    "tfp.layers.DenseVariational(tfp.layers.MultivariateNormalTriL.params_size(len(outputs)),\n",
    "                            posterior_mean_field, prior_trainable, \n",
    "                            activation=\"linear\", kl_weight=1/(2*n_samples), name=\"distribution_weights\"),\n",
    "tfp.layers.MultivariateNormalTriL(len(outputs), name=\"output\")\n",
    "], name=\"model\")\n",
    "\n",
    "# Compile model.\n",
    "model.compile(optimizer=\"Adam\", loss=neg_log_likelihood)\n",
    "\n",
    "# Describe model.\n",
    "model.summary()\n",
    "# plot_model(model, to_file='./figures/model.png', show_shapes=True, expand_nested=True, dpi=900)"
   ]
  },
  {
   "cell_type": "code",
   "execution_count": 9,
   "metadata": {
    "tags": []
   },
   "outputs": [
    {
     "data": {
      "text/plain": [
       "<tensorflow.python.keras.callbacks.History at 0x7fcf335bca50>"
      ]
     },
     "execution_count": 9,
     "metadata": {},
     "output_type": "execute_result"
    }
   ],
   "source": [
    "# Run training session.\n",
    "model.load_weights(\"./Bayesian_neural_network\")\n",
    "# model.fit(data_train, epochs=n_epochs, validation_data=data_test, verbose=False)\n",
    "# model.save_weights(\"./Bayesian_neural_network\")"
   ]
  },
  {
   "cell_type": "markdown",
   "metadata": {},
   "source": [
    "# Results and Discussion"
   ]
  },
  {
   "cell_type": "code",
   "execution_count": 13,
   "metadata": {},
   "outputs": [
    {
     "data": {
      "image/png": "[encoded data removed]",
      "text/plain": [
       "<Figure size 212.4x212.4 with 1 Axes>"
      ]
     },
     "metadata": {
      "needs_background": "light"
     },
     "output_type": "display_data"
    }
   ],
   "source": [
    "# Plot the training session.\n",
    "fig = plt.figure(figsize=(2.95, 2.95))\n",
    "fig.tight_layout()\n",
    "plt.yscale(\"log\")\n",
    "plt.xlim(0, np.round(len(model.history.epoch)+4,-1))\n",
    "plt.xticks(np.linspace(0, np.round(len(model.history.epoch)+4,-1), 5))\n",
    "plt.ylim(1e-1, 1e39)\n",
    "plt.xlabel(\"epoch\")\n",
    "plt.ylabel(\"loss\")\n",
    "plt.plot(list(map(lambda x: x + 1, model.history.epoch)), model.history.history[\"loss\"], label=\"training\", color=plt.cm.viridis(0.25))\n",
    "plt.plot(list(map(lambda x: x + 1, model.history.epoch)), model.history.history[\"val_loss\"], label=\"validation\", color=plt.cm.viridis(0.5))\n",
    "plt.legend(frameon=False, loc=0)\n",
    "plt.savefig('./figures/loss_BNN_2weeks',dpi=900,transparent=True,orientation='landscape',bbox_inches='tight')\n",
    "plt.show()"
   ]
  },
  {
   "cell_type": "code",
   "execution_count": 14,
   "metadata": {},
   "outputs": [],
   "source": [
    "# Predict.\n",
    "Y_true = dataset[outputs].values\n",
    "Y_pred = np.zeros(shape=dataset[outputs].shape)\n",
    "k = 100\n",
    "for _ in range(k):\n",
    "    Y_pred += (1/k)*model.predict(dataset[inputs])"
   ]
  },
  {
   "cell_type": "code",
   "execution_count": 15,
   "metadata": {},
   "outputs": [
    {
     "data": {
      "image/png": "[encoded data removed]",
      "text/plain": [
       "<Figure size 212.4x212.4 with 4 Axes>"
      ]
     },
     "metadata": {
      "needs_background": "light"
     },
     "output_type": "display_data"
    }
   ],
   "source": [
    "n_v = 4\n",
    "labels = [\"CO\", \"C6H6\", \"NOx\", \"NO2\"]\n",
    "colors = [plt.cm.viridis(0.0), plt.cm.viridis(0.25), plt.cm.viridis(0.50), plt.cm.viridis(0.75)]\n",
    "fig, axes = plt.subplots(figsize=(2.95, 2.95), ncols=2, nrows=2, sharex=True, sharey=True)\n",
    "ax = axes.ravel()\n",
    "for k in range(n_v):\n",
    "    ax[k].plot([-3, 3], [-3, 3], color=\"k\")\n",
    "    ax[k].scatter(Y_true[:, k], Y_pred[:, k], color=colors[k], s=4, alpha=1.0, label=labels[k])\n",
    "    ax[k].text(0.45, -2.75, \"$R^2$ = \"+str(np.round(r2_score(Y_true[:, k], Y_pred[:, k]), 2)))\n",
    "    ax[k].legend(frameon=False)\n",
    "    if k % 2 == 0:\n",
    "        ax[k].set_ylabel(\"Y$_{model}$\")\n",
    "    if k // 2 != 0:\n",
    "        ax[k].set_xlabel(\"Y$_{data}$\")\n",
    "    ax[k].set_xlim(-3, 3)\n",
    "    ax[k].set_ylim(-3, 3)\n",
    "    ax[k].set_xticks(np.round(np.linspace(-3, 3, 7), 2))\n",
    "    ax[k].set_yticks(np.round(np.linspace(-3, 3, 7), 2))\n",
    "plt.savefig('./figures/agreement_2weeks',dpi=900,transparent=True,bbox_inches='tight')\n",
    "plt.show()"
   ]
  },
  {
   "cell_type": "code",
   "execution_count": 41,
   "metadata": {},
   "outputs": [],
   "source": [
    "# Load data and keep only second six months.\n",
    "data_test = pd.read_excel(\"AirQualityUCI.xlsx\")\n",
    "data_test = data_test[(data_test[\"Date\"] > \"2004-03-31\") & (data_test[\"Date\"] <= \"2004-09-30\")]\n",
    "\n",
    "# Impute missing values.\n",
    "X_t = imputer.fit_transform(data_test[columns])\n",
    "\n",
    "# Scale.\n",
    "X_t = scaler.transform(X_t)\n",
    "\n",
    "# Restore frame.\n",
    "dataset_test = pd.DataFrame(X_t, columns=columns, index=data_test[\"Date\"]+pd.to_timedelta([t.isoformat() for t in data_test[\"Time\"].values]))"
   ]
  },
  {
   "cell_type": "code",
   "execution_count": 5,
   "metadata": {},
   "outputs": [],
   "source": [
    "T = None\n",
    "n_outputs = 4\n",
    "\n",
    "# mu_, sigma_ = run_simulation(model, dataset_test[inputs].values, T, n_outputs)\n",
    "mu_, sigma_ = np.load(\"mu_2weeks.npy\"), np.load(\"sigma_2weeks.npy\")"
   ]
  },
  {
   "cell_type": "code",
   "execution_count": 11,
   "metadata": {},
   "outputs": [
    {
     "data": {
      "image/png": "[encoded data removed]",
      "text/plain": [
       "<Figure size 212.4x318.6 with 4 Axes>"
      ]
     },
     "metadata": {
      "needs_background": "light"
     },
     "output_type": "display_data"
    }
   ],
   "source": [
    "n_v = 4\n",
    "labels = [\"CO\", \"C6H6\", \"NOx\", \"NO2\"]\n",
    "colors = [plt.cm.viridis(0.0), plt.cm.viridis(0.25), plt.cm.viridis(0.50), plt.cm.viridis(0.75)]\n",
    "fig, axes = plt.subplots(figsize=(1.*2.95, 1.5*2.95), ncols=1, nrows=4, sharex=True, sharey=True)\n",
    "ax = axes.ravel()\n",
    "for k in range(n_v):\n",
    "    ax[k].plot(np.arange(0, mu_.shape[0], 1), moving_average(mu_[:, k]), color=colors[k], label=labels[k])\n",
    "    ax[k].fill_between(np.arange(0, mu_.shape[0], 1), \n",
    "                       moving_average(mu_[:, k]) - moving_average(sigma_[:, k]),\n",
    "                       moving_average(mu_[:, k]) + moving_average(sigma_[:, k]), \n",
    "                       color=colors[k], alpha=0.33)\n",
    "    ax[k].legend(frameon=False, loc=2)\n",
    "    ax[k].set_ylabel(\"Y$_{model}$\")\n",
    "    ax[k].set_ylim(-40, 40)\n",
    "    ax[k].set_yticks(np.linspace(-40, 40, 5))\n",
    "    ax[k].set_xlim(0, 3360)\n",
    "    ax[k].set_xticks(np.linspace(0, 3360, 5, dtype=int))\n",
    "    ax[k].set_xticklabels(np.linspace(0, (3360/24), 5, dtype=int))\n",
    "ax[k].set_xlabel(\"time / days\")\n",
    "plt.savefig('./figures/mu_sigma_test_2weeks',dpi=900,transparent=True,bbox_inches='tight')\n",
    "plt.show()"
   ]
  },
  {
   "cell_type": "code",
   "execution_count": 29,
   "metadata": {},
   "outputs": [
    {
     "data": {
      "image/png": "[encoded data removed]",
      "text/plain": [
       "<Figure size 212.4x212.4 with 1 Axes>"
      ]
     },
     "metadata": {
      "needs_background": "light"
     },
     "output_type": "display_data"
    }
   ],
   "source": [
    "# Plot violinplot.\n",
    "labels = [\"CO\", \"C6H6\", \"NOx\", \"NO2\"]\n",
    "colors = [plt.cm.viridis(0.0), plt.cm.viridis(0.25), plt.cm.viridis(0.50), plt.cm.viridis(0.75)]\n",
    "fig = plt.figure(figsize=(2.95,2.95))\n",
    "fig.tight_layout()\n",
    "vp = plt.violinplot(sigma_,\n",
    "                 widths=0.2, points=500, showmeans=False, showmedians=True, quantiles=[[0.25, 0.75]]*n_outputs)\n",
    "for k, vp_ in enumerate(vp[\"bodies\"]):\n",
    "    vp_.set_facecolor(colors[k])\n",
    "    vp_.set_alpha(0.6)\n",
    "    \n",
    "for partname in list(vp.keys())[1:]:\n",
    "    vp_ = vp[partname]\n",
    "    vp_.set_edgecolor(\"k\")\n",
    "    vp_.set_alpha(1.0)\n",
    "plt.xlabel(r\"pollutant\")\n",
    "plt.ylabel(\"$\\sigma$\")\n",
    "plt.xticks((1,2,3,4),labels)\n",
    "plt.yscale(\"log\")\n",
    "plt.ylim(0.01, 1000)\n",
    "plt.savefig(\"./figures/box_plot_sigma_2weeks\",dpi=900,transparent=True,orientation=\"landscape\",bbox_inches=\"tight\")\n",
    "plt.show()"
   ]
  },
  {
   "cell_type": "code",
   "execution_count": 58,
   "metadata": {},
   "outputs": [
    {
     "data": {
      "image/png": "[encoded data removed]",
      "text/plain": [
       "<Figure size 212.4x212.4 with 1 Axes>"
      ]
     },
     "metadata": {
      "needs_background": "light"
     },
     "output_type": "display_data"
    }
   ],
   "source": [
    "Y_red = dim_red.fit_transform(dataset[inputs])\n",
    "Y_irreg = dim_red.transform(dataset_test[inputs].loc[np.max(sigma_, axis=1) > 10])\n",
    "\n",
    "fig = plt.figure(figsize=(2.95,2.95))\n",
    "ax = fig.add_subplot(111)\n",
    "ax.scatter(Y_irreg[:, 0], Y_irreg[:, 1], color=plt.cm.viridis(0.25), marker=\"s\", s=4, alpha=1.0, label=\"testing\")\n",
    "ax.scatter(Y_red[:, 0], Y_red[:, 1], color=plt.cm.viridis(0.0), s=4, alpha=1.0, label=\"training\")\n",
    "ax.set_xlim(-8, 8)\n",
    "ax.set_ylim(-8, 8)\n",
    "ax.set_xlabel('principal component 1')\n",
    "ax.set_ylabel('principal component 2')\n",
    "ax.set_xticks(np.round(np.linspace(-8, 8, 5), 2))\n",
    "ax.set_yticks(np.round(np.linspace(-8, 8, 5), 2))\n",
    "plt.legend(frameon=False)\n",
    "plt.savefig('./figures/anomalies_2weeks',dpi=900,transparent=True,orientation='landscape',bbox_inches='tight')\n",
    "plt.show()"
   ]
  }
 ],
 "metadata": {
  "kernelspec": {
   "display_name": "Python 3",
   "language": "python",
   "name": "python3"
  },
  "language_info": {
   "codemirror_mode": {
    "name": "ipython",
    "version": 3
   },
   "file_extension": ".py",
   "mimetype": "text/x-python",
   "name": "python",
   "nbconvert_exporter": "python",
   "pygments_lexer": "ipython3",
   "version": "3.7.10"
  }
 },
 "nbformat": 4,
 "nbformat_minor": 4
}
