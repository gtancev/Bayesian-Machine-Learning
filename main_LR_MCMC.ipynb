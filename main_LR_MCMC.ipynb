{
 "cells": [
  {
   "cell_type": "code",
   "execution_count": 3,
   "metadata": {},
   "outputs": [],
   "source": [
    "import pandas as pd\n",
    "import numpy as np\n",
    "import pymc3 as pm\n",
    "\n",
    "%matplotlib inline\n",
    "import matplotlib.pyplot as plt\n",
    "plt.rcParams[\"lines.linewidth\"] = 1.0\n",
    "plt.rcParams[\"font.size\"] = 6.0\n",
    "plt.rcParams[\"axes.titlesize\"] = 6.0"
   ]
  },
  {
   "cell_type": "code",
   "execution_count": 2,
   "metadata": {},
   "outputs": [],
   "source": [
    "# Define helper functions.\n",
    "def scatter_hist(x, y, ax, ax_histx, ax_histy, color=plt.cm.viridis(0.25)):\n",
    "    # no labels\n",
    "    ax_histx.tick_params(axis=\"x\", labelbottom=False)\n",
    "    ax_histy.tick_params(axis=\"y\", labelleft=False)\n",
    "\n",
    "    # the scatter plot:\n",
    "    ax.scatter(x, y, marker=\".\", color=color, s=4, edgecolor=None, alpha=1.0)\n",
    "\n",
    "    # now determine nice limits by hand:\n",
    "    binwidth = 0.1\n",
    "    xymax = max(np.max(np.abs(x)), np.max(np.abs(y)))\n",
    "    lim = (int(xymax/binwidth) + 1) * binwidth\n",
    "\n",
    "    bins = np.arange(-lim, lim + binwidth, binwidth)\n",
    "    ax_histx.hist(x, bins=100, color=color, alpha=0.6, density=True)\n",
    "    ax_histy.hist(y, bins=100, orientation='horizontal', color=color, alpha=0.6, density=True)"
   ]
  },
  {
   "cell_type": "code",
   "execution_count": 3,
   "metadata": {},
   "outputs": [
    {
     "data": {
      "text/html": [
       "<div>\n",
       "<style scoped>\n",
       "    .dataframe tbody tr th:only-of-type {\n",
       "        vertical-align: middle;\n",
       "    }\n",
       "\n",
       "    .dataframe tbody tr th {\n",
       "        vertical-align: top;\n",
       "    }\n",
       "\n",
       "    .dataframe thead th {\n",
       "        text-align: right;\n",
       "    }\n",
       "</style>\n",
       "<table border=\"1\" class=\"dataframe\">\n",
       "  <thead>\n",
       "    <tr style=\"text-align: right;\">\n",
       "      <th></th>\n",
       "      <th>CO-B4 / V</th>\n",
       "    </tr>\n",
       "    <tr>\n",
       "      <th>CO-ref / ppb</th>\n",
       "      <th></th>\n",
       "    </tr>\n",
       "  </thead>\n",
       "  <tbody>\n",
       "    <tr>\n",
       "      <th>100</th>\n",
       "      <td>0.089560</td>\n",
       "    </tr>\n",
       "    <tr>\n",
       "      <th>200</th>\n",
       "      <td>0.106705</td>\n",
       "    </tr>\n",
       "    <tr>\n",
       "      <th>400</th>\n",
       "      <td>0.148126</td>\n",
       "    </tr>\n",
       "    <tr>\n",
       "      <th>800</th>\n",
       "      <td>0.232793</td>\n",
       "    </tr>\n",
       "  </tbody>\n",
       "</table>\n",
       "</div>"
      ],
      "text/plain": [
       "              CO-B4 / V\n",
       "CO-ref / ppb           \n",
       "100            0.089560\n",
       "200            0.106705\n",
       "400            0.148126\n",
       "800            0.232793"
      ]
     },
     "execution_count": 3,
     "metadata": {},
     "output_type": "execute_result"
    }
   ],
   "source": [
    "data = pd.read_excel(\"data.xlsx\", index_col=0)\n",
    "mean_data = data.groupby(by=\"CO-ref / ppb\").mean()\n",
    "x, y = mean_data[\"CO-B4 / V\"].values, mean_data.index.values\n",
    "mean_data.head()"
   ]
  },
  {
   "cell_type": "code",
   "execution_count": 4,
   "metadata": {},
   "outputs": [
    {
     "data": {
      "image/png": "[encoded data removed]",
      "text/plain": [
       "<Figure size 212.4x106.2 with 1 Axes>"
      ]
     },
     "metadata": {
      "needs_background": "light"
     },
     "output_type": "display_data"
    }
   ],
   "source": [
    "fig = plt.figure(figsize=(2.95,0.5*2.95))\n",
    "plt.plot(x, y, \".\", ms=4, color=plt.cm.viridis(0.00), label=\"data\")\n",
    "plt.ylim(0, 1000)\n",
    "plt.ylabel(\"CO / ppb\")\n",
    "plt.xlim(0.05, 0.30)\n",
    "plt.xlabel(\"CO-B4 / V\")\n",
    "plt.legend(loc=4, frameon=False)\n",
    "plt.show()"
   ]
  },
  {
   "cell_type": "code",
   "execution_count": 5,
   "metadata": {},
   "outputs": [
    {
     "name": "stderr",
     "output_type": "stream",
     "text": [
      "/Users/gtancev/opt/anaconda3/lib/python3.7/site-packages/ipykernel_launcher.py:15: FutureWarning: In v4.0, pm.sample will return an `arviz.InferenceData` object instead of a `MultiTrace` by default. You can pass return_inferencedata=True or return_inferencedata=False to be safe and silence this warning.\n",
      "  from ipykernel import kernelapp as app\n",
      "Auto-assigning NUTS sampler...\n",
      "Initializing NUTS using adapt_diag...\n",
      "Multiprocess sampling (4 chains in 4 jobs)\n",
      "NUTS: [intercept, slope]\n"
     ]
    },
    {
     "data": {
      "text/html": [
       "\n",
       "    <div>\n",
       "        <style>\n",
       "            /* Turns off some styling */\n",
       "            progress {\n",
       "                /* gets rid of default border in Firefox and Opera. */\n",
       "                border: none;\n",
       "                /* Needs to be in here for Safari polyfill so background images work as expected. */\n",
       "                background-size: auto;\n",
       "            }\n",
       "            .progress-bar-interrupted, .progress-bar-interrupted::-webkit-progress-bar {\n",
       "                background: #F44336;\n",
       "            }\n",
       "        </style>\n",
       "      <progress value='16000' class='' max='16000' style='width:300px; height:20px; vertical-align: middle;'></progress>\n",
       "      100.00% [16000/16000 00:06<00:00 Sampling 4 chains, 0 divergences]\n",
       "    </div>\n",
       "    "
      ],
      "text/plain": [
       "<IPython.core.display.HTML object>"
      ]
     },
     "metadata": {},
     "output_type": "display_data"
    },
    {
     "name": "stderr",
     "output_type": "stream",
     "text": [
      "Sampling 4 chains for 2_000 tune and 2_000 draw iterations (8_000 + 8_000 draws total) took 23 seconds.\n",
      "The acceptance probability does not match the target. It is 0.8840125873663308, but should be close to 0.8. Try to increase the number of tuning steps.\n",
      "The acceptance probability does not match the target. It is 0.8832032825339684, but should be close to 0.8. Try to increase the number of tuning steps.\n",
      "The number of effective samples is smaller than 25% for some parameters.\n"
     ]
    }
   ],
   "source": [
    "# Define model.\n",
    "with pm.Model() as linear_model:\n",
    "    \n",
    "    # Define priors.\n",
    "    slope = pm.Normal(\"slope\", mu=2450, sigma=550)\n",
    "    intercept = pm.Normal(\"intercept\", mu=35, sigma=45)\n",
    "    \n",
    "    # Define posterior.\n",
    "    y_obs = pm.Normal(\"CO-ref\",\n",
    "            mu=x * slope + intercept,\n",
    "            observed=y)\n",
    "    \n",
    "    # Sample.\n",
    "    prior = pm.sample_prior_predictive()\n",
    "    posterior = pm.sample(2000, tune=2000, init=\"adapt_diag\")"
   ]
  },
  {
   "cell_type": "code",
   "execution_count": 9,
   "metadata": {},
   "outputs": [
    {
     "data": {
      "image/svg+xml": [
       "<?xml version=\"1.0\" encoding=\"UTF-8\" standalone=\"no\"?>\n",
       "<!DOCTYPE svg PUBLIC \"-//W3C//DTD SVG 1.1//EN\"\n",
       " \"http://www.w3.org/Graphics/SVG/1.1/DTD/svg11.dtd\">\n",
       "<!-- Generated by graphviz version 2.42.3 (20191010.1750)\n",
       " -->\n",
       "<!-- Title: %3 Pages: 1 -->\n",
       "<svg width=\"200pt\" height=\"223pt\"\n",
       " viewBox=\"0.00 0.00 200.50 223.42\" xmlns=\"http://www.w3.org/2000/svg\" xmlns:xlink=\"http://www.w3.org/1999/xlink\">\n",
       "<g id=\"graph0\" class=\"graph\" transform=\"scale(1 1) rotate(0) translate(4 219.42)\">\n",
       "<title>%3</title>\n",
       "<polygon fill=\"white\" stroke=\"transparent\" points=\"-4,4 -4,-219.42 196.5,-219.42 196.5,4 -4,4\"/>\n",
       "<g id=\"clust1\" class=\"cluster\">\n",
       "<title>cluster4</title>\n",
       "<path fill=\"none\" stroke=\"black\" d=\"M59.94,-8C59.94,-8 135.94,-8 135.94,-8 141.94,-8 147.94,-14 147.94,-20 147.94,-20 147.94,-104.71 147.94,-104.71 147.94,-110.71 141.94,-116.71 135.94,-116.71 135.94,-116.71 59.94,-116.71 59.94,-116.71 53.94,-116.71 47.94,-110.71 47.94,-104.71 47.94,-104.71 47.94,-20 47.94,-20 47.94,-14 53.94,-8 59.94,-8\"/>\n",
       "<text text-anchor=\"middle\" x=\"136.44\" y=\"-14.8\" font-family=\"Times,serif\" font-size=\"14.00\">4</text>\n",
       "</g>\n",
       "<!-- intercept -->\n",
       "<g id=\"node1\" class=\"node\">\n",
       "<title>intercept</title>\n",
       "<ellipse fill=\"none\" stroke=\"black\" cx=\"45.94\" cy=\"-180.07\" rx=\"45.89\" ry=\"35.21\"/>\n",
       "<text text-anchor=\"middle\" x=\"45.94\" y=\"-189.87\" font-family=\"Times,serif\" font-size=\"14.00\">intercept</text>\n",
       "<text text-anchor=\"middle\" x=\"45.94\" y=\"-175.87\" font-family=\"Times,serif\" font-size=\"14.00\">~</text>\n",
       "<text text-anchor=\"middle\" x=\"45.94\" y=\"-161.87\" font-family=\"Times,serif\" font-size=\"14.00\">Normal</text>\n",
       "</g>\n",
       "<!-- CO&#45;ref -->\n",
       "<g id=\"node3\" class=\"node\">\n",
       "<title>CO&#45;ref</title>\n",
       "<ellipse fill=\"lightgrey\" stroke=\"black\" cx=\"97.94\" cy=\"-73.36\" rx=\"41.61\" ry=\"35.21\"/>\n",
       "<text text-anchor=\"middle\" x=\"97.94\" y=\"-83.16\" font-family=\"Times,serif\" font-size=\"14.00\">CO&#45;ref</text>\n",
       "<text text-anchor=\"middle\" x=\"97.94\" y=\"-69.16\" font-family=\"Times,serif\" font-size=\"14.00\">~</text>\n",
       "<text text-anchor=\"middle\" x=\"97.94\" y=\"-55.16\" font-family=\"Times,serif\" font-size=\"14.00\">Normal</text>\n",
       "</g>\n",
       "<!-- intercept&#45;&gt;CO&#45;ref -->\n",
       "<g id=\"edge1\" class=\"edge\">\n",
       "<title>intercept&#45;&gt;CO&#45;ref</title>\n",
       "<path fill=\"none\" stroke=\"black\" d=\"M61.97,-146.79C66.91,-136.85 72.41,-125.76 77.6,-115.31\"/>\n",
       "<polygon fill=\"black\" stroke=\"black\" points=\"80.75,-116.85 82.06,-106.34 74.48,-113.74 80.75,-116.85\"/>\n",
       "</g>\n",
       "<!-- slope -->\n",
       "<g id=\"node2\" class=\"node\">\n",
       "<title>slope</title>\n",
       "<ellipse fill=\"none\" stroke=\"black\" cx=\"150.94\" cy=\"-180.07\" rx=\"41.61\" ry=\"35.21\"/>\n",
       "<text text-anchor=\"middle\" x=\"150.94\" y=\"-189.87\" font-family=\"Times,serif\" font-size=\"14.00\">slope</text>\n",
       "<text text-anchor=\"middle\" x=\"150.94\" y=\"-175.87\" font-family=\"Times,serif\" font-size=\"14.00\">~</text>\n",
       "<text text-anchor=\"middle\" x=\"150.94\" y=\"-161.87\" font-family=\"Times,serif\" font-size=\"14.00\">Normal</text>\n",
       "</g>\n",
       "<!-- slope&#45;&gt;CO&#45;ref -->\n",
       "<g id=\"edge2\" class=\"edge\">\n",
       "<title>slope&#45;&gt;CO&#45;ref</title>\n",
       "<path fill=\"none\" stroke=\"black\" d=\"M134.9,-147.37C129.81,-137.31 124.1,-126.04 118.73,-115.43\"/>\n",
       "<polygon fill=\"black\" stroke=\"black\" points=\"121.76,-113.65 114.12,-106.31 115.51,-116.81 121.76,-113.65\"/>\n",
       "</g>\n",
       "</g>\n",
       "</svg>\n"
      ],
      "text/plain": [
       "<graphviz.dot.Digraph at 0x7fb2ff7f6950>"
      ]
     },
     "execution_count": 9,
     "metadata": {},
     "output_type": "execute_result"
    }
   ],
   "source": [
    "# Visualize graphical model.\n",
    "pm.model_graph.model_to_graphviz(linear_model)"
   ]
  },
  {
   "cell_type": "code",
   "execution_count": 6,
   "metadata": {},
   "outputs": [
    {
     "name": "stderr",
     "output_type": "stream",
     "text": [
      "/Users/gtancev/opt/anaconda3/lib/python3.7/site-packages/arviz/data/io_pymc3.py:92: FutureWarning: Using `from_pymc3` without the model will be deprecated in a future release. Not using the model will return less accurate and less useful results. Make sure you use the model argument or call from_pymc3 within a model context.\n",
      "  FutureWarning,\n"
     ]
    },
    {
     "data": {
      "text/html": [
       "<div>\n",
       "<style scoped>\n",
       "    .dataframe tbody tr th:only-of-type {\n",
       "        vertical-align: middle;\n",
       "    }\n",
       "\n",
       "    .dataframe tbody tr th {\n",
       "        vertical-align: top;\n",
       "    }\n",
       "\n",
       "    .dataframe thead th {\n",
       "        text-align: right;\n",
       "    }\n",
       "</style>\n",
       "<table border=\"1\" class=\"dataframe\">\n",
       "  <thead>\n",
       "    <tr style=\"text-align: right;\">\n",
       "      <th></th>\n",
       "      <th>mean</th>\n",
       "      <th>sd</th>\n",
       "      <th>hdi_3%</th>\n",
       "      <th>hdi_97%</th>\n",
       "      <th>mcse_mean</th>\n",
       "      <th>mcse_sd</th>\n",
       "      <th>ess_mean</th>\n",
       "      <th>ess_sd</th>\n",
       "      <th>ess_bulk</th>\n",
       "      <th>ess_tail</th>\n",
       "      <th>r_hat</th>\n",
       "    </tr>\n",
       "  </thead>\n",
       "  <tbody>\n",
       "    <tr>\n",
       "      <th>slope</th>\n",
       "      <td>4839.204</td>\n",
       "      <td>9.297</td>\n",
       "      <td>4821.704</td>\n",
       "      <td>4856.082</td>\n",
       "      <td>0.249</td>\n",
       "      <td>0.176</td>\n",
       "      <td>1390.0</td>\n",
       "      <td>1390.0</td>\n",
       "      <td>1385.0</td>\n",
       "      <td>1668.0</td>\n",
       "      <td>1.0</td>\n",
       "    </tr>\n",
       "    <tr>\n",
       "      <th>intercept</th>\n",
       "      <td>-323.233</td>\n",
       "      <td>1.441</td>\n",
       "      <td>-325.902</td>\n",
       "      <td>-320.502</td>\n",
       "      <td>0.039</td>\n",
       "      <td>0.027</td>\n",
       "      <td>1400.0</td>\n",
       "      <td>1399.0</td>\n",
       "      <td>1398.0</td>\n",
       "      <td>1635.0</td>\n",
       "      <td>1.0</td>\n",
       "    </tr>\n",
       "  </tbody>\n",
       "</table>\n",
       "</div>"
      ],
      "text/plain": [
       "               mean     sd    hdi_3%   hdi_97%  mcse_mean  mcse_sd  ess_mean  \\\n",
       "slope      4839.204  9.297  4821.704  4856.082      0.249    0.176    1390.0   \n",
       "intercept  -323.233  1.441  -325.902  -320.502      0.039    0.027    1400.0   \n",
       "\n",
       "           ess_sd  ess_bulk  ess_tail  r_hat  \n",
       "slope      1390.0    1385.0    1668.0    1.0  \n",
       "intercept  1399.0    1398.0    1635.0    1.0  "
      ]
     },
     "execution_count": 6,
     "metadata": {},
     "output_type": "execute_result"
    }
   ],
   "source": [
    "pm.summary(posterior, hdi_prob=0.94)"
   ]
  },
  {
   "cell_type": "code",
   "execution_count": 14,
   "metadata": {},
   "outputs": [
    {
     "data": {
      "image/png": "[encoded data removed]",
      "text/plain": [
       "<Figure size 212.4x212.4 with 4 Axes>"
      ]
     },
     "metadata": {
      "needs_background": "light"
     },
     "output_type": "display_data"
    }
   ],
   "source": [
    "# Plot traces.\n",
    "n_v = len(posterior.varnames)\n",
    "units = [\" / ppb/V\", \" / ppb\"]\n",
    "limits_x = [(0.0, 0.06), (0.0, 0.3)]\n",
    "limits_y = [(4810, 4880), (-315, -330)] \n",
    "labels = [\"\", \"\", \"\"]\n",
    "fig, axes = plt.subplots(figsize=(2.95, 0.5*n_v*2.95), ncols=2, nrows=n_v)\n",
    "ax = axes.ravel()\n",
    "for k in range(n_v):\n",
    "    ax[2*k].hist(posterior[posterior.varnames[k]], orientation=\"horizontal\", density=True, bins=50, color=plt.cm.viridis(0.00), alpha=0.6)\n",
    "    ax[2*k+1].plot(posterior[posterior.varnames[k]], \".\", ms=2, color=plt.cm.viridis(0.00), alpha=1.0)\n",
    "    ax[2*k+1].set_ylabel(posterior.varnames[k].lower()+units[k])\n",
    "    ax[2*k+1].set_yticks(())\n",
    "    ax[2*k+1].set_xlim((0, 4000))\n",
    "    ax[2*k+1].set_xticks((0, 2000, 4000))\n",
    "    ax[2*k].set_xlim(limits_x[k])\n",
    "    ax[2*k].set_xticks(np.linspace(limits_x[k][0], limits_x[k][1], 3))\n",
    "    ax[2*k].set_ylim(limits_y[k])\n",
    "    ax[2*k].set_yticks(np.linspace(limits_y[k][0], limits_y[k][1], 3))\n",
    "    ax[2*k+1].set_ylim(limits_y[k])\n",
    "    #ax[2*k].yaxis.set_major_formatter(FormatStrFormatter('%.2f'))\n",
    "ax[2*k].set_xlabel(r\"$\\rho$\")\n",
    "ax[2*k+1].set_xlabel(r\"N\")\n",
    "plt.savefig('./figures/parameter_sampling',dpi=900,transparent=True,bbox_inches='tight')\n",
    "plt.show()"
   ]
  },
  {
   "cell_type": "code",
   "execution_count": 9,
   "metadata": {},
   "outputs": [
    {
     "data": {
      "image/png": "[encoded data removed]",
      "text/plain": [
       "<Figure size 201.78x201.78 with 3 Axes>"
      ]
     },
     "metadata": {
      "needs_background": "light"
     },
     "output_type": "display_data"
    }
   ],
   "source": [
    "# Plot parameter distribution.\n",
    "units = [\" / ppb/V\", \" / ppb\"]\n",
    "fig = plt.figure(figsize=(0.95*2.95, 0.95*2.95))\n",
    "gs = fig.add_gridspec(2, 2,  width_ratios=(7, 2), height_ratios=(2, 7),\n",
    "                      left=0.1, right=0.9, bottom=0.1, top=0.9,\n",
    "                      wspace=0.05, hspace=0.05)\n",
    "ax = fig.add_subplot(gs[1, 0])\n",
    "ax_histx = fig.add_subplot(gs[0, 0], sharex=ax)\n",
    "ax_histy = fig.add_subplot(gs[1, 1], sharey=ax)\n",
    "ax.set_xlim(4810, 4880)\n",
    "ax.set_ylim(-315, -330)\n",
    "ax.set_xlabel(posterior.varnames[0].lower()+units[0])\n",
    "ax.set_ylabel(posterior.varnames[1].lower()+units[1])\n",
    "\n",
    "ax.set_yticks((-330, -322.5, -315))\n",
    "ax.set_xticks((4810, 4845, 4880))\n",
    "\n",
    "ax_histx.set_ylim(0, 0.06)\n",
    "ax_histx.set_yticks((0.03, 0.06))\n",
    "ax_histx.set_ylabel(r\"$\\rho$\")\n",
    "\n",
    "ax_histy.set_xlim(0.0, 0.3)\n",
    "ax_histy.set_xticks((0.15, 0.3))\n",
    "ax_histy.set_xlabel(r\"$\\rho$\")\n",
    "\n",
    "scatter_hist(posterior[posterior.varnames[0]], posterior[posterior.varnames[1]], ax, ax_histx, ax_histy, color=plt.cm.viridis(0.00))\n",
    "plt.savefig('./figures/parameter_scatter',dpi=900,transparent=True,orientation='landscape',bbox_inches='tight')\n",
    "plt.show()"
   ]
  },
  {
   "cell_type": "code",
   "execution_count": 8,
   "metadata": {},
   "outputs": [
    {
     "name": "stderr",
     "output_type": "stream",
     "text": [
      "/Users/gtancev/opt/anaconda3/lib/python3.7/site-packages/pymc3/plots/posteriorplot.py:62: DeprecationWarning: The `plot_posterior_predictive_glm` function will migrate to Arviz in a future release. \n",
      "Keep up to date with `ArviZ <https://arviz-devs.github.io/arviz/>`_ for future updates.\n",
      "  DeprecationWarning,\n"
     ]
    },
    {
     "data": {
      "image/png": "[encoded data removed]",
      "text/plain": [
       "<Figure size 212.4x212.4 with 1 Axes>"
      ]
     },
     "metadata": {
      "needs_background": "light"
     },
     "output_type": "display_data"
    }
   ],
   "source": [
    "# Plot predictions (with uncertainty).\n",
    "def linear_model(posterior, x):\n",
    "    return posterior[\"slope\"] * x + posterior[\"intercept\"]\n",
    "\n",
    "lm = lambda x, samples: linear_model(samples, x)\n",
    "\n",
    "plt.figure(figsize=(2.95, 2.95))\n",
    "plt.plot(x, y, \".\", ms=4, color=plt.cm.viridis(0.0), label=\"data\")\n",
    "pm.plot_posterior_predictive_glm(posterior, eval=np.linspace(0.08, 0.25, 500), \n",
    "                                 lm=lm, samples=1000, lw=1, color=plt.cm.viridis(0.00), alpha=1.0, label=\"model\")\n",
    "plt.title(label=None)\n",
    "plt.xlabel(r\"CO-B4 / V\")\n",
    "plt.ylabel(r\"CO / ppb\")\n",
    "plt.xlim((0.00, 0.3))\n",
    "plt.xticks(np.linspace(0.00, 0.3, 6))\n",
    "plt.ylim((0, 1000))\n",
    "plt.yticks(np.linspace(0.0, 1000, 6))\n",
    "plt.legend(frameon=False, loc=2)\n",
    "plt.savefig('./figures/prediction', dpi=900, transparent=True, orientation='landscape', bbox_inches='tight')\n",
    "plt.show()"
   ]
  },
  {
   "cell_type": "code",
   "execution_count": 9,
   "metadata": {},
   "outputs": [
    {
     "name": "stdout",
     "output_type": "stream",
     "text": [
      "The mean is 644.6\n",
      "The standard deviation is 0.7\n",
      "The 94% credible interval is between 643.3 646.0\n",
      "The mean is 2580.3\n",
      "The standard deviation is 4.3\n",
      "The 94% credible interval is between 2572.4 2588.1\n"
     ]
    },
    {
     "name": "stderr",
     "output_type": "stream",
     "text": [
      "/Users/gtancev/opt/anaconda3/lib/python3.7/site-packages/arviz/stats/stats.py:341: UserWarning: hpd will be deprecated Please replace hdi\n",
      "  (\"hpd will be deprecated \" \"Please replace hdi\"),\n"
     ]
    },
    {
     "data": {
      "image/png": "[encoded data removed]",
      "text/plain": [
       "<Figure size 212.4x212.4 with 2 Axes>"
      ]
     },
     "metadata": {
      "needs_background": "light"
     },
     "output_type": "display_data"
    }
   ],
   "source": [
    "# Plot posterior predictive distributions.\n",
    "\n",
    "x_1 = 0.20\n",
    "y_1 = linear_model(posterior, x_1)\n",
    "print(\"The mean is\", np.round(np.mean(y_1), 1))\n",
    "print(\"The standard deviation is\", np.round(np.std(y_1), 1))\n",
    "print(\"The 94% credible interval is between\", *np.round(pm.stats.hpd(y_1, credible_interval=0.94), 1))\n",
    "\n",
    "x_2 = 0.60\n",
    "y_2 = linear_model(posterior, x_2)\n",
    "print(\"The mean is\", np.round(np.mean(y_2), 1))\n",
    "print(\"The standard deviation is\", np.round(np.std(y_2), 1))\n",
    "print(\"The 94% credible interval is between\", *np.round(pm.stats.hpd(y_2, credible_interval=0.94), 1))\n",
    "\n",
    "fig, axes = plt.subplots(figsize=(2.95, 2.95), ncols=1, nrows=2)\n",
    "ax = axes.ravel()\n",
    "ax[0].hist(y_1, bins=100, density=True, color=plt.cm.viridis(0.00), alpha=0.6, label=\"0.2 V\")\n",
    "ax[0].set_xlim(640, 650)\n",
    "ax[0].set_xticks(np.linspace(640, 650, 6))\n",
    "ax[0].set_ylim(0, 1)\n",
    "ax[0].set_yticks(np.linspace(0, 1, 5))\n",
    "ax[0].set_ylabel(r\"$\\rho$\")\n",
    "ax[0].legend(frameon=False, loc=2)\n",
    "ax[1].hist(y_2, bins=100, density=True, color=plt.cm.viridis(0.00), alpha=0.6, label=\"0.6 V\")\n",
    "ax[1].set_xlim(2560, 2600)\n",
    "ax[1].set_xticks(np.linspace(2560, 2600, 6))\n",
    "ax[1].set_ylim(0, 0.16)\n",
    "ax[1].set_yticks(np.linspace(0, 0.16, 5))\n",
    "ax[1].set_xlabel(r\"CO / ppb\")\n",
    "ax[1].set_ylabel(r\"$\\rho$\")\n",
    "ax[1].legend(frameon=False, loc=2)\n",
    "plt.savefig('./figures/prediction_new_samples',dpi=900,transparent=True,orientation='landscape',bbox_inches='tight')\n",
    "plt.show()"
   ]
  },
  {
   "cell_type": "code",
   "execution_count": 10,
   "metadata": {},
   "outputs": [
    {
     "data": {
      "text/html": [
       "\n",
       "    <div>\n",
       "        <style>\n",
       "            /* Turns off some styling */\n",
       "            progress {\n",
       "                /* gets rid of default border in Firefox and Opera. */\n",
       "                border: none;\n",
       "                /* Needs to be in here for Safari polyfill so background images work as expected. */\n",
       "                background-size: auto;\n",
       "            }\n",
       "            .progress-bar-interrupted, .progress-bar-interrupted::-webkit-progress-bar {\n",
       "                background: #F44336;\n",
       "            }\n",
       "        </style>\n",
       "      <progress value='10000000' class='' max='10000000' style='width:300px; height:20px; vertical-align: middle;'></progress>\n",
       "      100.00% [10000000/10000000 10:42<00:00 Average Loss = 155.75]\n",
       "    </div>\n",
       "    "
      ],
      "text/plain": [
       "<IPython.core.display.HTML object>"
      ]
     },
     "metadata": {},
     "output_type": "display_data"
    },
    {
     "name": "stderr",
     "output_type": "stream",
     "text": [
      "Finished [100%]: Average Loss = 155.75\n"
     ]
    }
   ],
   "source": [
    "# Define model.\n",
    "with pm.Model() as variational_linear_model:\n",
    "    \n",
    "    # Define priors.\n",
    "    slope = pm.Normal(\"slope\", mu=2450, sigma=550)\n",
    "    intercept = pm.Normal(\"intercept\", mu=35, sigma=45)\n",
    "    \n",
    "    # Define posterior.\n",
    "    y_obs = pm.Normal(\"CO-ref\",\n",
    "            mu=x * slope + intercept,\n",
    "            observed=y)\n",
    "    \n",
    "    # Sample.\n",
    "    approx = pm.fit(n=int(1e7), method=\"advi\")"
   ]
  },
  {
   "cell_type": "code",
   "execution_count": 7,
   "metadata": {},
   "outputs": [
    {
     "data": {
      "image/png": "[encoded data removed]",
      "text/plain": [
       "<Figure size 212.4x212.4 with 1 Axes>"
      ]
     },
     "metadata": {
      "needs_background": "light"
     },
     "output_type": "display_data"
    }
   ],
   "source": [
    "# Plot the training session.\n",
    "fig = plt.figure(figsize=(2.95, 2.95))\n",
    "fig.tight_layout()\n",
    "plt.yscale(\"log\")\n",
    "plt.xscale(\"log\")\n",
    "plt.xlim(1, len(approx.hist))\n",
    "plt.ylim(1e2, 1e5)\n",
    "plt.xlabel(\"iteration\")\n",
    "plt.ylabel(\"loss\")\n",
    "plt.plot(approx.hist, color=plt.cm.viridis(0.00))\n",
    "plt.savefig('./figures/loss_LM_ADVI',dpi=900,transparent=True,orientation='landscape',bbox_inches='tight')\n",
    "plt.show()"
   ]
  },
  {
   "cell_type": "code",
   "execution_count": 11,
   "metadata": {},
   "outputs": [
    {
     "name": "stderr",
     "output_type": "stream",
     "text": [
      "/Users/gtancev/opt/anaconda3/lib/python3.7/site-packages/arviz/data/io_pymc3.py:92: FutureWarning: Using `from_pymc3` without the model will be deprecated in a future release. Not using the model will return less accurate and less useful results. Make sure you use the model argument or call from_pymc3 within a model context.\n",
      "  FutureWarning,\n",
      "arviz - WARNING - Shape validation failed: input_shape: (1, 4000), minimum_shape: (chains=2, draws=4)\n"
     ]
    },
    {
     "data": {
      "text/html": [
       "<div>\n",
       "<style scoped>\n",
       "    .dataframe tbody tr th:only-of-type {\n",
       "        vertical-align: middle;\n",
       "    }\n",
       "\n",
       "    .dataframe tbody tr th {\n",
       "        vertical-align: top;\n",
       "    }\n",
       "\n",
       "    .dataframe thead th {\n",
       "        text-align: right;\n",
       "    }\n",
       "</style>\n",
       "<table border=\"1\" class=\"dataframe\">\n",
       "  <thead>\n",
       "    <tr style=\"text-align: right;\">\n",
       "      <th></th>\n",
       "      <th>mean</th>\n",
       "      <th>sd</th>\n",
       "      <th>hdi_3%</th>\n",
       "      <th>hdi_97%</th>\n",
       "      <th>mcse_mean</th>\n",
       "      <th>mcse_sd</th>\n",
       "      <th>ess_mean</th>\n",
       "      <th>ess_sd</th>\n",
       "      <th>ess_bulk</th>\n",
       "      <th>ess_tail</th>\n",
       "      <th>r_hat</th>\n",
       "    </tr>\n",
       "  </thead>\n",
       "  <tbody>\n",
       "    <tr>\n",
       "      <th>slope</th>\n",
       "      <td>4838.960</td>\n",
       "      <td>3.511</td>\n",
       "      <td>4832.303</td>\n",
       "      <td>4845.241</td>\n",
       "      <td>0.056</td>\n",
       "      <td>0.040</td>\n",
       "      <td>3892.0</td>\n",
       "      <td>3892.0</td>\n",
       "      <td>3894.0</td>\n",
       "      <td>3848.0</td>\n",
       "      <td>NaN</td>\n",
       "    </tr>\n",
       "    <tr>\n",
       "      <th>intercept</th>\n",
       "      <td>-323.181</td>\n",
       "      <td>0.562</td>\n",
       "      <td>-324.295</td>\n",
       "      <td>-322.162</td>\n",
       "      <td>0.009</td>\n",
       "      <td>0.006</td>\n",
       "      <td>3980.0</td>\n",
       "      <td>3980.0</td>\n",
       "      <td>3978.0</td>\n",
       "      <td>3493.0</td>\n",
       "      <td>NaN</td>\n",
       "    </tr>\n",
       "  </tbody>\n",
       "</table>\n",
       "</div>"
      ],
      "text/plain": [
       "               mean     sd    hdi_3%   hdi_97%  mcse_mean  mcse_sd  ess_mean  \\\n",
       "slope      4838.960  3.511  4832.303  4845.241      0.056    0.040    3892.0   \n",
       "intercept  -323.181  0.562  -324.295  -322.162      0.009    0.006    3980.0   \n",
       "\n",
       "           ess_sd  ess_bulk  ess_tail  r_hat  \n",
       "slope      3892.0    3894.0    3848.0    NaN  \n",
       "intercept  3980.0    3978.0    3493.0    NaN  "
      ]
     },
     "execution_count": 11,
     "metadata": {},
     "output_type": "execute_result"
    }
   ],
   "source": [
    "# Sample from the posterior.\n",
    "approx_posterior = approx.sample(4000)\n",
    "pm.summary(approx_posterior, hdi_prob=0.94)"
   ]
  },
  {
   "cell_type": "code",
   "execution_count": 12,
   "metadata": {},
   "outputs": [
    {
     "data": {
      "image/png": "[encoded data removed]",
      "text/plain": [
       "<Figure size 212.4x212.4 with 4 Axes>"
      ]
     },
     "metadata": {
      "needs_background": "light"
     },
     "output_type": "display_data"
    }
   ],
   "source": [
    "# Plot traces.\n",
    "n_v = len(approx_posterior.varnames)\n",
    "units = [\" / ppb/V\", \" / ppb\"]\n",
    "limits_x = [(0.0, 0.14), (0.0, 0.8)]\n",
    "limits_y = [(4810, 4880), (-315, -330)] \n",
    "labels = [\"\", \"\", \"\"]\n",
    "fig, axes = plt.subplots(figsize=(2.95, 0.5*n_v*2.95), ncols=2, nrows=n_v)\n",
    "ax = axes.ravel()\n",
    "for k in range(n_v):\n",
    "    ax[2*k].hist(approx_posterior[approx_posterior.varnames[k]], orientation=\"horizontal\", density=True, bins=50, color=plt.cm.viridis(0.00), alpha=0.6)\n",
    "    ax[2*k+1].plot(approx_posterior[approx_posterior.varnames[k]], \".\", ms=2, color=plt.cm.viridis(0.00), alpha=1.0)\n",
    "    ax[2*k+1].set_ylabel(approx_posterior.varnames[k].lower()+units[k])\n",
    "    ax[2*k+1].set_yticks(())\n",
    "    ax[2*k+1].set_xlim((0, 4000))\n",
    "    ax[2*k+1].set_xticks((0, 2000, 4000))\n",
    "    ax[2*k].set_xlim(limits_x[k])\n",
    "    ax[2*k].set_xticks(np.linspace(limits_x[k][0], limits_x[k][1], 3))\n",
    "    ax[2*k].set_ylim(limits_y[k])\n",
    "    ax[2*k].set_yticks(np.linspace(limits_y[k][0], limits_y[k][1], 3))\n",
    "    ax[2*k+1].set_ylim(limits_y[k])\n",
    "    #ax[2*k].yaxis.set_major_formatter(FormatStrFormatter('%.2f'))\n",
    "ax[2*k].set_xlabel(r\"$\\rho$\")\n",
    "ax[2*k+1].set_xlabel(r\"N\")\n",
    "plt.savefig('./figures/parameter_sampling_ADVI',dpi=900,transparent=True,bbox_inches='tight')\n",
    "plt.show()"
   ]
  },
  {
   "cell_type": "code",
   "execution_count": 12,
   "metadata": {},
   "outputs": [
    {
     "data": {
      "image/png": "[encoded data removed]",
      "text/plain": [
       "<Figure size 201.78x201.78 with 3 Axes>"
      ]
     },
     "metadata": {
      "needs_background": "light"
     },
     "output_type": "display_data"
    }
   ],
   "source": [
    "# Plot parameter distribution.\n",
    "units = [\" / ppb/V\", \" / ppb\"]\n",
    "fig = plt.figure(figsize=(0.95*2.95, 0.95*2.95))\n",
    "gs = fig.add_gridspec(2, 2,  width_ratios=(7, 2), height_ratios=(2, 7),\n",
    "                      left=0.1, right=0.9, bottom=0.1, top=0.9,\n",
    "                      wspace=0.05, hspace=0.05)\n",
    "ax = fig.add_subplot(gs[1, 0])\n",
    "ax_histx = fig.add_subplot(gs[0, 0], sharex=ax)\n",
    "ax_histy = fig.add_subplot(gs[1, 1], sharey=ax)\n",
    "ax.set_xlim(4810, 4880)\n",
    "ax.set_ylim(-315, -330)\n",
    "ax.set_xlabel(approx_posterior.varnames[0].lower()+units[0])\n",
    "ax.set_ylabel(approx_posterior.varnames[1].lower()+units[1])\n",
    "\n",
    "ax.set_yticks((-330, -322.5, -315))\n",
    "ax.set_xticks((4810, 4845, 4880))\n",
    "\n",
    "ax_histx.set_ylim(0, 0.14)\n",
    "ax_histx.set_yticks((0.07, 0.14))\n",
    "ax_histx.set_ylabel(r\"$\\rho$\")\n",
    "\n",
    "ax_histy.set_xlim(0.0, 0.8)\n",
    "ax_histy.set_xticks((0.4, 0.8))\n",
    "ax_histy.set_xlabel(r\"$\\rho$\")\n",
    "\n",
    "scatter_hist(approx_posterior[approx_posterior.varnames[0]], \n",
    "             approx_posterior[approx_posterior.varnames[1]], \n",
    "             ax, ax_histx, ax_histy, color=plt.cm.viridis(0.00))\n",
    "plt.savefig('./figures/parameter_scatter_ADVI',dpi=900,transparent=True,orientation='landscape',bbox_inches='tight')\n",
    "plt.show()"
   ]
  },
  {
   "cell_type": "code",
   "execution_count": 12,
   "metadata": {},
   "outputs": [
    {
     "name": "stderr",
     "output_type": "stream",
     "text": [
      "/Users/gtancev/opt/anaconda3/lib/python3.7/site-packages/pymc3/plots/posteriorplot.py:62: DeprecationWarning: The `plot_posterior_predictive_glm` function will migrate to Arviz in a future release. \n",
      "Keep up to date with `ArviZ <https://arviz-devs.github.io/arviz/>`_ for future updates.\n",
      "  DeprecationWarning,\n"
     ]
    },
    {
     "data": {
      "image/png": "[encoded data removed]",
      "text/plain": [
       "<Figure size 212.4x212.4 with 1 Axes>"
      ]
     },
     "metadata": {
      "needs_background": "light"
     },
     "output_type": "display_data"
    }
   ],
   "source": [
    "# Plot predictions (with uncertainty).\n",
    "def linear_model_ADVI(approx_posterior, x):\n",
    "    return approx_posterior[\"slope\"] * x + approx_posterior[\"intercept\"]\n",
    "\n",
    "lm_ADVI = lambda x, samples: linear_model_ADVI(samples, x)\n",
    "\n",
    "plt.figure(figsize=(2.95, 2.95))\n",
    "plt.plot(x, y, \".\", ms=4, color=plt.cm.viridis(0.00), label=\"data\")\n",
    "pm.plot_posterior_predictive_glm(approx_posterior, eval=np.linspace(0.08, 0.25, 500), \n",
    "                                 lm=lm_ADVI, samples=1000, lw=1, color=plt.cm.viridis(0.00), alpha=1.0, label=\"model\")\n",
    "plt.title(label=None)\n",
    "plt.xlabel(r\"CO-B4 / V\")\n",
    "plt.ylabel(r\"CO / ppb\")\n",
    "plt.xlim((0.00, 0.3))\n",
    "plt.xticks(np.linspace(0.00, 0.3, 6))\n",
    "plt.ylim((0, 1000))\n",
    "plt.yticks(np.linspace(0.0, 1000, 6))\n",
    "plt.legend(frameon=False, loc=2)\n",
    "plt.savefig('./figures/prediction_ADVI', dpi=900, transparent=True, orientation='landscape', bbox_inches='tight')\n",
    "plt.show()"
   ]
  },
  {
   "cell_type": "code",
   "execution_count": 13,
   "metadata": {},
   "outputs": [
    {
     "name": "stdout",
     "output_type": "stream",
     "text": [
      "The mean is 644.6\n",
      "The standard deviation is 0.9\n",
      "The 94% credible interval is between 643.0 646.4\n",
      "The mean is 2580.2\n",
      "The standard deviation is 2.2\n",
      "The 94% credible interval is between 2576.2 2584.3\n"
     ]
    },
    {
     "name": "stderr",
     "output_type": "stream",
     "text": [
      "/Users/gtancev/opt/anaconda3/lib/python3.7/site-packages/arviz/stats/stats.py:341: UserWarning: hpd will be deprecated Please replace hdi\n",
      "  (\"hpd will be deprecated \" \"Please replace hdi\"),\n"
     ]
    },
    {
     "data": {
      "image/png": "[encoded data removed]",
      "text/plain": [
       "<Figure size 212.4x212.4 with 2 Axes>"
      ]
     },
     "metadata": {
      "needs_background": "light"
     },
     "output_type": "display_data"
    }
   ],
   "source": [
    "# Plot posterior predictive distributions.\n",
    "\n",
    "x_1 = 0.20\n",
    "y_1 = linear_model_ADVI(approx_posterior, x_1)\n",
    "print(\"The mean is\", np.round(np.mean(y_1), 1))\n",
    "print(\"The standard deviation is\", np.round(np.std(y_1), 1))\n",
    "print(\"The 94% credible interval is between\", *np.round(pm.stats.hpd(y_1, credible_interval=0.94), 1))\n",
    "\n",
    "x_2 = 0.60\n",
    "y_2 = linear_model_ADVI(approx_posterior, x_2)\n",
    "print(\"The mean is\", np.round(np.mean(y_2), 1))\n",
    "print(\"The standard deviation is\", np.round(np.std(y_2), 1))\n",
    "print(\"The 94% credible interval is between\", *np.round(pm.stats.hpd(y_2, credible_interval=0.94), 1))\n",
    "\n",
    "fig, axes = plt.subplots(figsize=(2.95, 2.95), ncols=1, nrows=2)\n",
    "ax = axes.ravel()\n",
    "ax[0].hist(y_1, bins=100, density=True, color=plt.cm.viridis(0.00), alpha=0.6, label=\"0.2 V\")\n",
    "ax[0].set_xlim(640, 650)\n",
    "ax[0].set_xticks(np.linspace(640, 650, 6))\n",
    "ax[0].set_ylim(0, 1)\n",
    "ax[0].set_yticks(np.linspace(0, 1, 5))\n",
    "ax[0].set_ylabel(r\"$\\rho$\")\n",
    "ax[0].legend(frameon=False, loc=2)\n",
    "ax[1].hist(y_2, bins=100, density=True, color=plt.cm.viridis(0.00), alpha=0.6, label=\"0.6 V\")\n",
    "ax[1].set_xlim(2560, 2600)\n",
    "ax[1].set_xticks(np.linspace(2560, 2600, 6))\n",
    "ax[1].set_ylim(0, 0.28)\n",
    "ax[1].set_yticks(np.linspace(0, 0.28, 5))\n",
    "ax[1].set_xlabel(r\"CO / ppb\")\n",
    "ax[1].set_ylabel(r\"$\\rho$\")\n",
    "ax[1].legend(frameon=False, loc=2)\n",
    "plt.savefig('./figures/prediction_new_samples_ADVI',dpi=900,transparent=True,orientation='landscape',bbox_inches='tight')\n",
    "plt.show()"
   ]
  }
 ],
 "metadata": {
  "kernelspec": {
   "display_name": "Python 3",
   "language": "python",
   "name": "python3"
  },
  "language_info": {
   "codemirror_mode": {
    "name": "ipython",
    "version": 3
   },
   "file_extension": ".py",
   "mimetype": "text/x-python",
   "name": "python",
   "nbconvert_exporter": "python",
   "pygments_lexer": "ipython3",
   "version": "3.7.10"
  }
 },
 "nbformat": 4,
 "nbformat_minor": 4
}
